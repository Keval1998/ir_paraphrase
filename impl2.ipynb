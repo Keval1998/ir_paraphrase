{
  "nbformat": 4,
  "nbformat_minor": 0,
  "metadata": {
    "colab": {
      "name": "impl2.ipynb",
      "provenance": [],
      "collapsed_sections": [],
      "machine_shape": "hm",
      "authorship_tag": "ABX9TyOJ+WffbDf1f9r5Hm5jBrNV",
      "include_colab_link": true
    },
    "kernelspec": {
      "name": "python3",
      "display_name": "Python 3"
    },
    "accelerator": "GPU"
  },
  "cells": [
    {
      "cell_type": "markdown",
      "metadata": {
        "id": "view-in-github",
        "colab_type": "text"
      },
      "source": [
        "<a href=\"https://colab.research.google.com/github/Keval1998/ir_paraphrase/blob/master/impl2.ipynb\" target=\"_parent\"><img src=\"https://colab.research.google.com/assets/colab-badge.svg\" alt=\"Open In Colab\"/></a>"
      ]
    },
    {
      "cell_type": "code",
      "metadata": {
        "id": "5dSEj4la6NAW",
        "colab_type": "code",
        "colab": {}
      },
      "source": [
        "# from google.colab import drive\n",
        "# drive.mount('/content/drive')"
      ],
      "execution_count": 0,
      "outputs": []
    },
    {
      "cell_type": "code",
      "metadata": {
        "id": "ZKUzY1Aj6aPs",
        "colab_type": "code",
        "outputId": "9b520a5b-8827-42b2-db94-2053bfc4619f",
        "colab": {
          "base_uri": "https://localhost:8080/",
          "height": 156
        }
      },
      "source": [
        "'''\n",
        "Single model may achieve LB scores at around 0.29+ ~ 0.30+\n",
        "Average ensembles can easily get 0.28+ or less\n",
        "Don't need to be an expert of feature engineering\n",
        "All you need is a GPU!!!!!!!\n",
        "\n",
        "The code is tested on Keras 2.0.0 using Tensorflow backend, and Python 2.7\n",
        "\n",
        "According to experiments by kagglers, Theano backend with GPU may give bad LB scores while\n",
        "        the val_loss seems to be fine, so try Tensorflow backend first please\n",
        "'''\n",
        "\n",
        "########################################\n",
        "## import packages\n",
        "########################################\n",
        "%tensorflow_version 1.x\n",
        "import os\n",
        "import re\n",
        "import csv\n",
        "import codecs\n",
        "import numpy as np\n",
        "import pandas as pd\n",
        "\n",
        "from nltk.corpus import stopwords\n",
        "from nltk.stem import SnowballStemmer\n",
        "from string import punctuation\n",
        "\n",
        "from gensim.models import KeyedVectors\n",
        "from keras.preprocessing.text import Tokenizer\n",
        "from keras.preprocessing.sequence import pad_sequences\n",
        "from keras.layers import Dense, Input, LSTM, Embedding, Dropout, Activation\n",
        "from keras.layers.merge import concatenate\n",
        "from keras.models import Model\n",
        "from keras.layers.normalization import BatchNormalization\n",
        "from keras.callbacks import EarlyStopping, ModelCheckpoint\n",
        "\n",
        "import sys\n",
        "\n",
        "'''\n",
        "reload(sys)\n",
        "sys.setdefaultencoding('utf-8')\n",
        "'''\n",
        "\n",
        "########################################\n",
        "## set directories and parameters\n",
        "#####################+###################\n",
        "BASE_DIR = '/content/drive/My Drive/irlabs/impl/'\n",
        "EMBEDDING_FILE = BASE_DIR + 'GoogleNews-vectors-negative300 (1).bin.gz'\n",
        "TRAIN_DATA_FILE = BASE_DIR + 'train.csv'\n",
        "TEST_DATA_FILE = BASE_DIR + 'test.csv'\n",
        "MAX_SEQUENCE_LENGTH = 30\n",
        "MAX_NB_WORDS = 200000\n",
        "EMBEDDING_DIM = 300\n",
        "VALIDATION_SPLIT = 0.1\n",
        "\n",
        "num_lstm = np.random.randint(175, 275)\n",
        "num_dense = np.random.randint(100, 150)\n",
        "rate_drop_lstm = 0.15 + np.random.rand() * 0.25\n",
        "rate_drop_dense = 0.15 + np.random.rand() * 0.25\n",
        "\n",
        "act = 'relu'\n",
        "re_weight = True # whether to re-weight classes to fit the 17.5% share in test set\n",
        "\n",
        "STAMP = 'lstm_%d_%d_%.2f_%.2f'%(num_lstm, num_dense, rate_drop_lstm, \\\n",
        "        rate_drop_dense)\n",
        "\n",
        "########################################\n",
        "## index word vectors\n",
        "########################################\n",
        "print('Indexing word vectors')\n",
        "\n",
        "word2vec = KeyedVectors.load_word2vec_format(EMBEDDING_FILE, \\\n",
        "        binary=True)\n",
        "print('Found %s word vectors of word2vec' % len(word2vec.vocab))\n",
        "\n",
        "########################################\n",
        "## process texts in datasets\n",
        "########################################\n",
        "print('Processing text dataset')\n",
        "\n",
        "# The function \"text_to_wordlist\" is from\n",
        "# https://www.kaggle.com/currie32/quora-question-pairs/the-importance-of-cleaning-text\n",
        "def text_to_wordlist(text, remove_stopwords=False, stem_words=False):\n",
        "    # Clean the text, with the option to remove stopwords and to stem words.\n",
        "    \n",
        "    # Convert words to lower case and split them\n",
        "    text = text.lower().split()\n",
        "\n",
        "    # Optionally, remove stop words\n",
        "    if remove_stopwords:\n",
        "        stops = set(stopwords.words(\"english\"))\n",
        "        text = [w for w in text if not w in stops]\n",
        "    \n",
        "    text = \" \".join(text)\n",
        "\n",
        "    # Clean the text\n",
        "    text = re.sub(r\"[^A-Za-z0-9^,!.\\/'+-=]\", \" \", text)\n",
        "    text = re.sub(r\"what's\", \"what is \", text)\n",
        "    text = re.sub(r\"\\'s\", \" \", text)\n",
        "    text = re.sub(r\"\\'ve\", \" have \", text)\n",
        "    text = re.sub(r\"can't\", \"cannot \", text)\n",
        "    text = re.sub(r\"n't\", \" not \", text)\n",
        "    text = re.sub(r\"i'm\", \"i am \", text)\n",
        "    text = re.sub(r\"\\'re\", \" are \", text)\n",
        "    text = re.sub(r\"\\'d\", \" would \", text)\n",
        "    text = re.sub(r\"\\'ll\", \" will \", text)\n",
        "    text = re.sub(r\",\", \" \", text)\n",
        "    text = re.sub(r\"\\.\", \" \", text)\n",
        "    text = re.sub(r\"!\", \" ! \", text)\n",
        "    text = re.sub(r\"\\/\", \" \", text)\n",
        "    text = re.sub(r\"\\^\", \" ^ \", text)\n",
        "    text = re.sub(r\"\\+\", \" + \", text)\n",
        "    text = re.sub(r\"\\-\", \" - \", text)\n",
        "    text = re.sub(r\"\\=\", \" = \", text)\n",
        "    text = re.sub(r\"'\", \" \", text)\n",
        "    text = re.sub(r\"(\\d+)(k)\", r\"\\g<1>000\", text)\n",
        "    text = re.sub(r\":\", \" : \", text)\n",
        "    text = re.sub(r\" e g \", \" eg \", text)\n",
        "    text = re.sub(r\" b g \", \" bg \", text)\n",
        "    text = re.sub(r\" u s \", \" american \", text)\n",
        "    text = re.sub(r\"\\0s\", \"0\", text)\n",
        "    text = re.sub(r\" 9 11 \", \"911\", text)\n",
        "    text = re.sub(r\"e - mail\", \"email\", text)\n",
        "    text = re.sub(r\"j k\", \"jk\", text)\n",
        "    text = re.sub(r\"\\s{2,}\", \" \", text)\n",
        "    \n",
        "    # Optionally, shorten words to their stems\n",
        "    if stem_words:\n",
        "        text = text.split()\n",
        "        stemmer = SnowballStemmer('english')\n",
        "        stemmed_words = [stemmer.stem(word) for word in text]\n",
        "        text = \" \".join(stemmed_words)\n",
        "    \n",
        "    # Return a list of words\n",
        "    return(text)\n"
      ],
      "execution_count": 2,
      "outputs": [
        {
          "output_type": "stream",
          "text": [
            "TensorFlow 1.x selected.\n"
          ],
          "name": "stdout"
        },
        {
          "output_type": "stream",
          "text": [
            "Using TensorFlow backend.\n"
          ],
          "name": "stderr"
        },
        {
          "output_type": "stream",
          "text": [
            "Indexing word vectors\n"
          ],
          "name": "stdout"
        },
        {
          "output_type": "stream",
          "text": [
            "/usr/local/lib/python3.6/dist-packages/smart_open/smart_open_lib.py:253: UserWarning: This function is deprecated, use smart_open.open instead. See the migration notes for details: https://github.com/RaRe-Technologies/smart_open/blob/master/README.rst#migrating-to-the-new-open-function\n",
            "  'See the migration notes for details: %s' % _MIGRATION_NOTES_URL\n"
          ],
          "name": "stderr"
        },
        {
          "output_type": "stream",
          "text": [
            "Found 3000000 word vectors of word2vec\n",
            "Processing text dataset\n"
          ],
          "name": "stdout"
        }
      ]
    },
    {
      "cell_type": "code",
      "metadata": {
        "id": "eIumlrRy7vkU",
        "colab_type": "code",
        "colab": {
          "base_uri": "https://localhost:8080/",
          "height": 51
        },
        "outputId": "9a0c1578-d8a1-4a7a-edc1-c13fc6c10f3e"
      },
      "source": [
        "texts_1 = [] \n",
        "texts_2 = []\n",
        "labels = []\n",
        "with codecs.open(TRAIN_DATA_FILE, encoding='utf-8') as f:\n",
        "    reader = csv.reader(f, delimiter=',')\n",
        "    header = next(reader)\n",
        "    for values in reader:\n",
        "        texts_1.append(text_to_wordlist(values[3]))\n",
        "        texts_2.append(text_to_wordlist(values[4]))\n",
        "        labels.append(int(values[5]))\n",
        "print('Found %s texts in train.csv' % len(texts_1))\n",
        "\n",
        "test_texts_1 = []\n",
        "test_texts_2 = []\n",
        "test_ids = []\n",
        "with codecs.open(TEST_DATA_FILE, encoding='utf-8') as f:\n",
        "    reader = csv.reader(f, delimiter=',')\n",
        "    header = next(reader)\n",
        "    for values in reader:\n",
        "        test_texts_1.append(text_to_wordlist(values[1]))\n",
        "        test_texts_2.append(text_to_wordlist(values[2]))\n",
        "        test_ids.append(values[0])\n",
        "print('Found %s texts in test.csv' % len(test_texts_1))"
      ],
      "execution_count": 3,
      "outputs": [
        {
          "output_type": "stream",
          "text": [
            "Found 404290 texts in train.csv\n",
            "Found 2345796 texts in test.csv\n"
          ],
          "name": "stdout"
        }
      ]
    },
    {
      "cell_type": "code",
      "metadata": {
        "id": "tqd1Utbd7yPc",
        "colab_type": "code",
        "colab": {}
      },
      "source": [
        "tokenizer = Tokenizer(num_words=MAX_NB_WORDS)\n",
        "tokenizer.fit_on_texts(texts_1 + texts_2 + test_texts_1 + test_texts_2)\n",
        "\n",
        "sequences_1 = tokenizer.texts_to_sequences(texts_1)\n",
        "sequences_2 = tokenizer.texts_to_sequences(texts_2)\n",
        "test_sequences_1 = tokenizer.texts_to_sequences(test_texts_1)\n",
        "test_sequences_2 = tokenizer.texts_to_sequences(test_texts_2)"
      ],
      "execution_count": 0,
      "outputs": []
    },
    {
      "cell_type": "code",
      "metadata": {
        "id": "YfFstHrX7427",
        "colab_type": "code",
        "colab": {
          "base_uri": "https://localhost:8080/",
          "height": 68
        },
        "outputId": "5e22077c-abfc-48eb-f9ed-0bcf02bb987e"
      },
      "source": [
        "word_index = tokenizer.word_index\n",
        "print('Found %s unique tokens' % len(word_index))\n",
        "\n",
        "data_1 = pad_sequences(sequences_1, maxlen=MAX_SEQUENCE_LENGTH)\n",
        "data_2 = pad_sequences(sequences_2, maxlen=MAX_SEQUENCE_LENGTH)\n",
        "labels = np.array(labels)\n",
        "print('Shape of data tensor:', data_1.shape)\n",
        "print('Shape of label tensor:', labels.shape)\n",
        "\n",
        "test_data_1 = pad_sequences(test_sequences_1, maxlen=MAX_SEQUENCE_LENGTH)\n",
        "test_data_2 = pad_sequences(test_sequences_2, maxlen=MAX_SEQUENCE_LENGTH)\n",
        "test_ids = np.array(test_ids)"
      ],
      "execution_count": 5,
      "outputs": [
        {
          "output_type": "stream",
          "text": [
            "Found 120499 unique tokens\n",
            "Shape of data tensor: (404290, 30)\n",
            "Shape of label tensor: (404290,)\n"
          ],
          "name": "stdout"
        }
      ]
    },
    {
      "cell_type": "code",
      "metadata": {
        "id": "RyloJdxy78S0",
        "colab_type": "code",
        "colab": {
          "base_uri": "https://localhost:8080/",
          "height": 51
        },
        "outputId": "05bf89b4-7e04-46ed-ab0b-5a3301f0909d"
      },
      "source": [
        "########################################\n",
        "## prepare embeddings\n",
        "########################################\n",
        "print('Preparing embedding matrix')\n",
        "\n",
        "nb_words = min(MAX_NB_WORDS, len(word_index))+1\n",
        "\n",
        "embedding_matrix = np.zeros((nb_words, EMBEDDING_DIM))\n",
        "for word, i in word_index.items():\n",
        "    if word in word2vec.vocab:\n",
        "        embedding_matrix[i] = word2vec.word_vec(word)\n",
        "print('Null word embeddings: %d' % np.sum(np.sum(embedding_matrix, axis=1) == 0))"
      ],
      "execution_count": 6,
      "outputs": [
        {
          "output_type": "stream",
          "text": [
            "Preparing embedding matrix\n",
            "Null word embeddings: 61789\n"
          ],
          "name": "stdout"
        }
      ]
    },
    {
      "cell_type": "code",
      "metadata": {
        "id": "9rx2RZxT7_Jk",
        "colab_type": "code",
        "colab": {}
      },
      "source": [
        "########################################\n",
        "## sample train/validation data\n",
        "########################################\n",
        "#np.random.seed(1234)\n",
        "perm = np.random.permutation(len(data_1))\n",
        "idx_train = perm[:int(len(data_1)*(1-VALIDATION_SPLIT))]\n",
        "idx_val = perm[int(len(data_1)*(1-VALIDATION_SPLIT)):]"
      ],
      "execution_count": 0,
      "outputs": []
    },
    {
      "cell_type": "code",
      "metadata": {
        "id": "-5tHVJWmAAUr",
        "colab_type": "code",
        "colab": {}
      },
      "source": [
        "data_1_train = np.vstack((data_1[idx_train], data_2[idx_train]))\n",
        "data_2_train = np.vstack((data_2[idx_train], data_1[idx_train]))\n",
        "labels_train = np.concatenate((labels[idx_train], labels[idx_train]))\n",
        "\n",
        "data_1_val = np.vstack((data_1[idx_val], data_2[idx_val]))\n",
        "data_2_val = np.vstack((data_2[idx_val], data_1[idx_val]))\n",
        "labels_val = np.concatenate((labels[idx_val], labels[idx_val]))"
      ],
      "execution_count": 0,
      "outputs": []
    },
    {
      "cell_type": "code",
      "metadata": {
        "id": "Q3WlfFB68BXA",
        "colab_type": "code",
        "colab": {}
      },
      "source": [
        "weight_val = np.ones(len(labels_val))\n",
        "if re_weight:\n",
        "    weight_val *= 0.472001959\n",
        "    weight_val[labels_val==0] = 1.309028344"
      ],
      "execution_count": 0,
      "outputs": []
    },
    {
      "cell_type": "code",
      "metadata": {
        "id": "V_2pJkMh8D5y",
        "colab_type": "code",
        "colab": {
          "base_uri": "https://localhost:8080/",
          "height": 88
        },
        "outputId": "b5e8f077-0d5b-41cf-8df7-9887ffa7d2cd"
      },
      "source": [
        "########################################\n",
        "## define the model structure\n",
        "########################################\n",
        "embedding_layer = Embedding(nb_words,\n",
        "        EMBEDDING_DIM,\n",
        "        weights=[embedding_matrix],\n",
        "        input_length=MAX_SEQUENCE_LENGTH,\n",
        "        trainable=False)\n",
        "lstm_layer = LSTM(num_lstm, dropout=rate_drop_lstm, recurrent_dropout=rate_drop_lstm)\n",
        "\n",
        "sequence_1_input = Input(shape=(MAX_SEQUENCE_LENGTH,), dtype='int32')\n",
        "embedded_sequences_1 = embedding_layer(sequence_1_input)\n",
        "x1 = lstm_layer(embedded_sequences_1)\n",
        "\n",
        "sequence_2_input = Input(shape=(MAX_SEQUENCE_LENGTH,), dtype='int32')\n",
        "embedded_sequences_2 = embedding_layer(sequence_2_input)\n",
        "y1 = lstm_layer(embedded_sequences_2)\n",
        "\n",
        "merged = concatenate([x1, y1])\n",
        "merged = Dropout(rate_drop_dense)(merged)\n",
        "merged = BatchNormalization()(merged)\n",
        "\n",
        "merged = Dense(num_dense, activation=act)(merged)\n",
        "merged = Dropout(rate_drop_dense)(merged)\n",
        "merged = BatchNormalization()(merged)\n",
        "\n",
        "preds = Dense(1, activation='sigmoid')(merged)\n"
      ],
      "execution_count": 10,
      "outputs": [
        {
          "output_type": "stream",
          "text": [
            "WARNING:tensorflow:From /tensorflow-1.15.2/python3.6/tensorflow_core/python/ops/resource_variable_ops.py:1630: calling BaseResourceVariable.__init__ (from tensorflow.python.ops.resource_variable_ops) with constraint is deprecated and will be removed in a future version.\n",
            "Instructions for updating:\n",
            "If using Keras pass *_constraint arguments to layers.\n"
          ],
          "name": "stdout"
        }
      ]
    },
    {
      "cell_type": "code",
      "metadata": {
        "id": "XNw5r7ss8GkV",
        "colab_type": "code",
        "colab": {
          "base_uri": "https://localhost:8080/",
          "height": 105
        },
        "outputId": "e4ddbe47-880b-4e72-df3d-1177be3ae13c"
      },
      "source": [
        "########################################\n",
        "## add class weight\n",
        "########################################\n",
        "if re_weight:\n",
        "    class_weight = {0: 1.309028344, 1: 0.472001959}\n",
        "else:\n",
        "    class_weight = None\n",
        "\n",
        "########################################\n",
        "## train the model\n",
        "########################################\n",
        "model = Model(inputs=[sequence_1_input, sequence_2_input], \\\n",
        "        outputs=preds)\n",
        "model.compile(loss='binary_crossentropy',\n",
        "        optimizer='nadam',\n",
        "        metrics=['acc'])\n",
        "#model.summary()\n",
        "print(STAMP)\n",
        "\n",
        "early_stopping =EarlyStopping(monitor='val_loss', patience=3)\n",
        "bst_model_path = STAMP + '.h5'\n",
        "model_checkpoint = ModelCheckpoint(bst_model_path, save_best_only=True, save_weights_only=True)\n"
      ],
      "execution_count": 11,
      "outputs": [
        {
          "output_type": "stream",
          "text": [
            "WARNING:tensorflow:From /tensorflow-1.15.2/python3.6/tensorflow_core/python/ops/nn_impl.py:183: where (from tensorflow.python.ops.array_ops) is deprecated and will be removed in a future version.\n",
            "Instructions for updating:\n",
            "Use tf.where in 2.0, which has the same broadcast rule as np.where\n",
            "lstm_240_128_0.39_0.38\n"
          ],
          "name": "stdout"
        }
      ]
    },
    {
      "cell_type": "code",
      "metadata": {
        "id": "fNx7I9o6NA7i",
        "colab_type": "code",
        "colab": {
          "base_uri": "https://localhost:8080/",
          "height": 156
        },
        "outputId": "a0528d03-5820-48f0-eb43-c617ddff4049"
      },
      "source": [
        "\n",
        "hist = model.fit([data_1_train, data_2_train], labels_train, \\\n",
        "        validation_data=([data_1_val, data_2_val], labels_val, weight_val), \\\n",
        "        epochs=50, batch_size=2048, shuffle=True, \\\n",
        "        class_weight=class_weight, callbacks=[early_stopping, model_checkpoint])\n",
        "\n",
        "'''\n",
        "model.load_weights(bst_model_path)\n",
        "bst_val_score = min(hist.history['val_loss'])\n",
        "\n",
        "########################################\n",
        "## make the submission\n",
        "########################################\n",
        "print('Start making the submission before fine-tuning')\n",
        "\n",
        "preds = model.predict([test_data_1, test_data_2], batch_size=8192, verbose=1)\n",
        "preds += model.predict([test_data_2, test_data_1], batch_size=8192, verbose=1)\n",
        "preds /= 2\n",
        "\n",
        "submission = pd.DataFrame({'test_id':test_ids, 'is_duplicate':preds.ravel()})\n",
        "submission.to_csv('%.4f_'%(bst_val_score)+STAMP+'.csv', index=False)\n",
        "'''"
      ],
      "execution_count": 0,
      "outputs": [
        {
          "output_type": "stream",
          "text": [
            "WARNING:tensorflow:From /usr/local/lib/python3.6/dist-packages/keras/backend/tensorflow_backend.py:422: The name tf.global_variables is deprecated. Please use tf.compat.v1.global_variables instead.\n",
            "\n",
            "Train on 727722 samples, validate on 80858 samples\n",
            "Epoch 1/50\n",
            "727722/727722 [==============================] - 43s 59us/step - loss: 0.4403 - acc: 0.6639 - val_loss: 0.3958 - val_acc: 0.6406\n",
            "Epoch 2/50\n",
            "569344/727722 [======================>.......] - ETA: 8s - loss: 0.3786 - acc: 0.6910"
          ],
          "name": "stdout"
        }
      ]
    },
    {
      "cell_type": "code",
      "metadata": {
        "id": "m6k1zA4VpWH_",
        "colab_type": "code",
        "colab": {}
      },
      "source": [
        "import pickle as pk\n",
        "if len(hist.history['val_loss']) >= 23:\n",
        "  with open(BASE_DIR+'acc.pickle','wb') as f:\n",
        "    pk.dump(hist.history['acc'],f)\n",
        "  with open(BASE_DIR+'loss.pickle','wb') as f:\n",
        "    pk.dump(hist.history['loss'],f)\n",
        "  with open(BASE_DIR+'val_acc.pickle','wb') as f:\n",
        "    pk.dump(hist.history['val_acc'],f)\n",
        "  with open(BASE_DIR+'val_loss.pickle','wb') as f:\n",
        "    pk.dump(hist.history['val_loss'],f)\n",
        "\n",
        "  with open(BASE_DIR+'model.pickle','wb') as f:\n",
        "    pk.dump(model,f)\n",
        "\n",
        "  with open(BASE_DIR+'preds.pickle','wb') as f:\n",
        "    pk.dump(preds,f)\n",
        "\n",
        "  with open(BASE_DIR+'test_ids.pickle','wb') as f:\n",
        "    pk.dump(test_ids,f)"
      ],
      "execution_count": 0,
      "outputs": []
    },
    {
      "cell_type": "code",
      "metadata": {
        "id": "RQpXA2QNwosF",
        "colab_type": "code",
        "colab": {}
      },
      "source": [
        "len(hist.history['val_loss'])"
      ],
      "execution_count": 0,
      "outputs": []
    }
  ]
}