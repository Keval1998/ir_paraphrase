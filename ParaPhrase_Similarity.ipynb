{
  "nbformat": 4,
  "nbformat_minor": 0,
  "metadata": {
    "colab": {
      "name": "ParaPhrase_Similarity.ipynb",
      "provenance": [],
      "collapsed_sections": [],
      "mount_file_id": "1nnCG2sDm0uAR8-HpbpUc3GVaPw8hRrPY",
      "authorship_tag": "ABX9TyMCrs8pxQmDTW/itjwuvYly",
      "include_colab_link": true
    },
    "kernelspec": {
      "name": "python3",
      "display_name": "Python 3"
    }
  },
  "cells": [
    {
      "cell_type": "markdown",
      "metadata": {
        "id": "view-in-github",
        "colab_type": "text"
      },
      "source": [
        "<a href=\"https://colab.research.google.com/github/Keval1998/ir_paraphrase/blob/master/ParaPhrase_Similarity.ipynb\" target=\"_parent\"><img src=\"https://colab.research.google.com/assets/colab-badge.svg\" alt=\"Open In Colab\"/></a>"
      ]
    },
    {
      "cell_type": "markdown",
      "metadata": {
        "id": "IjugXUDZW0n5",
        "colab_type": "text"
      },
      "source": [
        "Mount google drive\n",
        "\n",
        "use given code if direct mount drive if permission is not given for colaboratory access\n",
        "\n",
        "My BASR_DIR - https://drive.google.com/open?id=1NoWhs64hmQym9UERMBkuGyYvSL3xahBW \n",
        "add it to your drive to get the data and results\n",
        "use path of this shared folder as BASE_DIR\n",
        "\n",
        "this shared folder contains each used and output files with the same name given in this notebook, for view purpose link is also provided with each file name in code"
      ]
    },
    {
      "cell_type": "code",
      "metadata": {
        "id": "bxzkeFs9WzVT",
        "colab_type": "code",
        "colab": {}
      },
      "source": [
        "from google.colab import drive\n",
        "drive.mount('/content/drive')"
      ],
      "execution_count": 0,
      "outputs": []
    },
    {
      "cell_type": "markdown",
      "metadata": {
        "id": "uleyXlv9dsvq",
        "colab_type": "text"
      },
      "source": [
        "To see direct results run last 3 cells\n",
        "Results are predicted using 23 epochs"
      ]
    },
    {
      "cell_type": "markdown",
      "metadata": {
        "id": "70tvdVJBWm-l",
        "colab_type": "text"
      },
      "source": [
        "All packages required"
      ]
    },
    {
      "cell_type": "code",
      "metadata": {
        "id": "yCL6Uqy3Wdj4",
        "colab_type": "code",
        "colab": {
          "base_uri": "https://localhost:8080/",
          "height": 51
        },
        "outputId": "97f82b24-50f3-49dd-a670-70b531d6fb44"
      },
      "source": [
        "%tensorflow_version 1.x\n",
        "import os\n",
        "import re\n",
        "import csv\n",
        "import codecs\n",
        "import numpy as np\n",
        "import pandas as pd\n",
        "\n",
        "from nltk.corpus import stopwords\n",
        "from nltk.stem import SnowballStemmer\n",
        "from string import punctuation\n",
        "\n",
        "from gensim.models import KeyedVectors\n",
        "from keras.preprocessing.text import Tokenizer\n",
        "from keras.preprocessing.sequence import pad_sequences\n",
        "from keras.layers import Dense, Input, LSTM, Embedding, Dropout, Activation\n",
        "from keras.layers.merge import concatenate\n",
        "from keras.models import Model\n",
        "from keras.layers.normalization import BatchNormalization\n",
        "from keras.callbacks import EarlyStopping, ModelCheckpoint"
      ],
      "execution_count": 1,
      "outputs": [
        {
          "output_type": "stream",
          "text": [
            "TensorFlow 1.x selected.\n"
          ],
          "name": "stdout"
        },
        {
          "output_type": "stream",
          "text": [
            "Using TensorFlow backend.\n"
          ],
          "name": "stderr"
        }
      ]
    },
    {
      "cell_type": "markdown",
      "metadata": {
        "id": "9Uv0TrqZXkvr",
        "colab_type": "text"
      },
      "source": [
        "All constants defined that code will use later\n",
        "\n",
        "BASE_DIR folder is shared and link is given in first cell before moun drive\n",
        "\n",
        "if want to see direct files then you can use link of files directly provided\n",
        "\n",
        "EMBEDDING_FILE : link to GoogleNeews preembedded vectors  https://drive.google.com/open?id=0B7XkCwpI5KDYNlNUTTlSS21pQmM\n",
        " use the link to add shortcut in your drive\n",
        "\n",
        " TRAIN_DATA_FILE : csv file for testing https://drive.google.com/open?id=1C8lQsimHfvgT3RcJbpcbYqLVwatpMfnI\n",
        "\n",
        " TEST_DATA_FILE : csv file for testing https://drive.google.com/open?id=1SyUgSjOBllW6Vesql1F-erS6wSB-mdOb"
      ]
    },
    {
      "cell_type": "code",
      "metadata": {
        "id": "CEfGwz4EXlO7",
        "colab_type": "code",
        "colab": {
          "base_uri": "https://localhost:8080/",
          "height": 71
        },
        "outputId": "39f48ed3-94ee-44f8-edef-3bfef3496b3a"
      },
      "source": [
        "BASE_DIR = '/content/drive/My Drive/irlabs/impl/'\n",
        "EMBEDDING_FILE = BASE_DIR + 'GoogleNews-vectors-negative300 (1).bin.gz'\n",
        "TRAIN_DATA_FILE = BASE_DIR + '2.txt'#(sample file) #use train.csv instead of 2.txt to observe full run on original data\n",
        "TEST_DATA_FILE = BASE_DIR + '1.txt'#(sample file) #test.csv instead of 1.txt to observe full run on original data\n",
        "MAX_SEQUENCE_LENGTH = 30\n",
        "MAX_NB_WORDS = 200000\n",
        "EMBEDDING_DIM = 300\n",
        "VALIDATION_SPLIT = 0.1\n",
        "\n",
        "num_lstm = np.random.randint(175, 275)\n",
        "num_dense = np.random.randint(100, 150)\n",
        "rate_drop_lstm = 0.15 + np.random.rand() * 0.25\n",
        "rate_drop_dense = 0.15 + np.random.rand() * 0.25\n",
        "\n",
        "act = 'relu'\n",
        "re_weight = True\n",
        "STAMP = 'lstm_%d_%d_%.2f_%.2f'%(num_lstm, num_dense, rate_drop_lstm,rate_drop_dense)\n",
        "\n",
        "word2vec = KeyedVectors.load_word2vec_format(EMBEDDING_FILE,binary=True)"
      ],
      "execution_count": 4,
      "outputs": [
        {
          "output_type": "stream",
          "text": [
            "/usr/local/lib/python3.6/dist-packages/smart_open/smart_open_lib.py:253: UserWarning: This function is deprecated, use smart_open.open instead. See the migration notes for details: https://github.com/RaRe-Technologies/smart_open/blob/master/README.rst#migrating-to-the-new-open-function\n",
            "  'See the migration notes for details: %s' % _MIGRATION_NOTES_URL\n"
          ],
          "name": "stderr"
        }
      ]
    },
    {
      "cell_type": "markdown",
      "metadata": {
        "id": "lCgkLV1fZBzO",
        "colab_type": "text"
      },
      "source": [
        "function for data cleaning"
      ]
    },
    {
      "cell_type": "code",
      "metadata": {
        "id": "C_qSb-WCX9Ur",
        "colab_type": "code",
        "colab": {}
      },
      "source": [
        "def text_to_wordlist(text, remove_stopwords=False, stem_words=False):\n",
        "    text = text.lower().split()\n",
        "    if remove_stopwords:\n",
        "        stops = set(stopwords.words(\"english\"))\n",
        "        text = [w for w in text if not w in stops]\n",
        "    \n",
        "    text = \" \".join(text)\n",
        "\n",
        "    text = re.sub(r\"[^A-Za-z0-9^,!.\\/'+-=]\", \" \", text)\n",
        "    text = re.sub(r\"what's\", \"what is \", text)\n",
        "    text = re.sub(r\"\\'s\", \" \", text)\n",
        "    text = re.sub(r\"\\'ve\", \" have \", text)\n",
        "    text = re.sub(r\"can't\", \"cannot \", text)\n",
        "    text = re.sub(r\"n't\", \" not \", text)\n",
        "    text = re.sub(r\"i'm\", \"i am \", text)\n",
        "    text = re.sub(r\"\\'re\", \" are \", text)\n",
        "    text = re.sub(r\"\\'d\", \" would \", text)\n",
        "    text = re.sub(r\"\\'ll\", \" will \", text)\n",
        "    text = re.sub(r\",\", \" \", text)\n",
        "    text = re.sub(r\"\\.\", \" \", text)\n",
        "    text = re.sub(r\"!\", \" ! \", text)\n",
        "    text = re.sub(r\"\\/\", \" \", text)\n",
        "    text = re.sub(r\"\\^\", \" ^ \", text)\n",
        "    text = re.sub(r\"\\+\", \" + \", text)\n",
        "    text = re.sub(r\"\\-\", \" - \", text)\n",
        "    text = re.sub(r\"\\=\", \" = \", text)\n",
        "    text = re.sub(r\"'\", \" \", text)\n",
        "    text = re.sub(r\"(\\d+)(k)\", r\"\\g<1>000\", text)\n",
        "    text = re.sub(r\":\", \" : \", text)\n",
        "    text = re.sub(r\" e g \", \" eg \", text)\n",
        "    text = re.sub(r\" b g \", \" bg \", text)\n",
        "    text = re.sub(r\" u s \", \" american \", text)\n",
        "    text = re.sub(r\"\\0s\", \"0\", text)\n",
        "    text = re.sub(r\" 9 11 \", \"911\", text)\n",
        "    text = re.sub(r\"e - mail\", \"email\", text)\n",
        "    text = re.sub(r\"j k\", \"jk\", text)\n",
        "    text = re.sub(r\"\\s{2,}\", \" \", text)\n",
        "    \n",
        "\n",
        "    if stem_words:\n",
        "        text = text.split()\n",
        "        stemmer = SnowballStemmer('english')\n",
        "        stemmed_words = [stemmer.stem(word) for word in text]\n",
        "        text = \" \".join(stemmed_words)\n",
        "    \n",
        "\n",
        "    return(text)"
      ],
      "execution_count": 0,
      "outputs": []
    },
    {
      "cell_type": "markdown",
      "metadata": {
        "id": "6xlpDopiZGpA",
        "colab_type": "text"
      },
      "source": [
        "preprocessing"
      ]
    },
    {
      "cell_type": "code",
      "metadata": {
        "id": "_DAS44trZHFb",
        "colab_type": "code",
        "colab": {}
      },
      "source": [
        "texts_1 = [] \n",
        "texts_2 = []\n",
        "labels = []\n",
        "with codecs.open(TRAIN_DATA_FILE, encoding='utf-8') as f:\n",
        "    reader = csv.reader(f, delimiter=',')\n",
        "    header = next(reader)\n",
        "    for values in reader:\n",
        "        texts_1.append(text_to_wordlist(values[3]))\n",
        "        texts_2.append(text_to_wordlist(values[4]))\n",
        "        labels.append(int(values[5]))\n",
        "\n",
        "test_texts_1 = []\n",
        "test_texts_2 = []\n",
        "test_ids = []\n",
        "with codecs.open(TEST_DATA_FILE, encoding='utf-8') as f:\n",
        "    reader = csv.reader(f, delimiter=',')\n",
        "    header = next(reader)\n",
        "    for values in reader:\n",
        "        test_texts_1.append(text_to_wordlist(values[1]))\n",
        "        test_texts_2.append(text_to_wordlist(values[2]))\n",
        "        test_ids.append(values[0])"
      ],
      "execution_count": 0,
      "outputs": []
    },
    {
      "cell_type": "code",
      "metadata": {
        "id": "03XyIY8kZk-f",
        "colab_type": "code",
        "colab": {
          "base_uri": "https://localhost:8080/",
          "height": 156
        },
        "outputId": "6b0ff276-a000-471a-a6ca-32a1d785e521"
      },
      "source": [
        "tokenizer = Tokenizer(num_words=MAX_NB_WORDS)\n",
        "tokenizer.fit_on_texts(texts_1 + texts_2 + test_texts_1 + test_texts_2)\n",
        "\n",
        "sequences_1 = tokenizer.texts_to_sequences(texts_1)\n",
        "sequences_2 = tokenizer.texts_to_sequences(texts_2)\n",
        "test_sequences_1 = tokenizer.texts_to_sequences(test_texts_1)\n",
        "test_sequences_2 = tokenizer.texts_to_sequences(test_texts_2)\n",
        "\n",
        "word_index = tokenizer.word_index\n",
        "data_1 = pad_sequences(sequences_1, maxlen=MAX_SEQUENCE_LENGTH)\n",
        "data_2 = pad_sequences(sequences_2, maxlen=MAX_SEQUENCE_LENGTH)\n",
        "labels = np.array(labels)\n",
        "test_data_1 = pad_sequences(test_sequences_1, maxlen=MAX_SEQUENCE_LENGTH)\n",
        "test_data_2 = pad_sequences(test_sequences_2, maxlen=MAX_SEQUENCE_LENGTH)\n",
        "test_ids = np.array(test_ids)\n",
        "\n",
        "nb_words = min(MAX_NB_WORDS, len(word_index))+1\n",
        "\n",
        "embedding_matrix = np.zeros((nb_words, EMBEDDING_DIM))\n",
        "for word, i in word_index.items():\n",
        "    if word in word2vec.vocab:\n",
        "        embedding_matrix[i] = word2vec.word_vec(word)\n",
        "print('Number of words not found in embedding: %d' % np.sum(np.sum(embedding_matrix, axis=1) == 0))\n",
        "\n",
        "perm = np.random.permutation(len(data_1))\n",
        "idx_train = perm[:int(len(data_1)*(1-VALIDATION_SPLIT))]\n",
        "idx_val = perm[int(len(data_1)*(1-VALIDATION_SPLIT)):]\n",
        "\n",
        "data_1_train = np.vstack((data_1[idx_train], data_2[idx_train]))\n",
        "data_2_train = np.vstack((data_2[idx_train], data_1[idx_train]))\n",
        "labels_train = np.concatenate((labels[idx_train], labels[idx_train]))\n",
        "\n",
        "data_1_val = np.vstack((data_1[idx_val], data_2[idx_val]))\n",
        "data_2_val = np.vstack((data_2[idx_val], data_1[idx_val]))\n",
        "labels_val = np.concatenate((labels[idx_val], labels[idx_val]))\n",
        "\n",
        "weight_val = np.ones(len(labels_val))\n",
        "if re_weight:\n",
        "    weight_val *= 0.472001959\n",
        "    weight_val[labels_val==0] = 1.309028344\n",
        "\n",
        "embedding_layer = Embedding(nb_words,\n",
        "        EMBEDDING_DIM,\n",
        "        weights=[embedding_matrix],\n",
        "        input_length=MAX_SEQUENCE_LENGTH,\n",
        "        trainable=False)\n",
        "\n",
        "lstm_layer = LSTM(num_lstm, dropout=rate_drop_lstm, recurrent_dropout=rate_drop_lstm)\n",
        "\n",
        "sequence_1_input = Input(shape=(MAX_SEQUENCE_LENGTH,), dtype='int32')\n",
        "embedded_sequences_1 = embedding_layer(sequence_1_input)\n",
        "x1 = lstm_layer(embedded_sequences_1)\n",
        "\n",
        "sequence_2_input = Input(shape=(MAX_SEQUENCE_LENGTH,), dtype='int32')\n",
        "embedded_sequences_2 = embedding_layer(sequence_2_input)\n",
        "y1 = lstm_layer(embedded_sequences_2)\n",
        "\n",
        "merged = concatenate([x1, y1])\n",
        "merged = Dropout(rate_drop_dense)(merged)\n",
        "merged = BatchNormalization()(merged)\n",
        "\n",
        "merged = Dense(num_dense, activation=act)(merged)\n",
        "merged = Dropout(rate_drop_dense)(merged)\n",
        "merged = BatchNormalization()(merged)\n",
        "\n",
        "preds = Dense(1, activation='sigmoid')(merged)\n",
        "\n",
        "if re_weight:\n",
        "    class_weight = {0: 1.309028344, 1: 0.472001959}\n",
        "else:\n",
        "    class_weight = None\n",
        "\n",
        "model = Model(inputs=[sequence_1_input, sequence_2_input],outputs=preds)\n",
        "model.compile(loss='binary_crossentropy',\n",
        "        optimizer='nadam',\n",
        "        metrics=['acc'])\n",
        "\n",
        "early_stopping =EarlyStopping(monitor='val_loss', patience=3)\n",
        "bst_model_path = STAMP + '.h5'\n",
        "model_checkpoint = ModelCheckpoint(bst_model_path, save_best_only=True, save_weights_only=True)"
      ],
      "execution_count": 6,
      "outputs": [
        {
          "output_type": "stream",
          "text": [
            "Number of words not found in embedding: 236\n",
            "WARNING:tensorflow:From /tensorflow-1.15.2/python3.6/tensorflow_core/python/ops/resource_variable_ops.py:1630: calling BaseResourceVariable.__init__ (from tensorflow.python.ops.resource_variable_ops) with constraint is deprecated and will be removed in a future version.\n",
            "Instructions for updating:\n",
            "If using Keras pass *_constraint arguments to layers.\n",
            "WARNING:tensorflow:From /tensorflow-1.15.2/python3.6/tensorflow_core/python/ops/nn_impl.py:183: where (from tensorflow.python.ops.array_ops) is deprecated and will be removed in a future version.\n",
            "Instructions for updating:\n",
            "Use tf.where in 2.0, which has the same broadcast rule as np.where\n"
          ],
          "name": "stdout"
        }
      ]
    },
    {
      "cell_type": "code",
      "metadata": {
        "id": "6M0dTq--aZk_",
        "colab_type": "code",
        "colab": {
          "base_uri": "https://localhost:8080/",
          "height": 1000
        },
        "outputId": "58ba5099-eb7b-4907-f838-b4bf6e693cbf"
      },
      "source": [
        "hist = model.fit([data_1_train, data_2_train], labels_train, \\\n",
        "        validation_data=([data_1_val, data_2_val], labels_val, weight_val), \\\n",
        "        epochs=50, batch_size=2048, shuffle=True, \\\n",
        "        class_weight=class_weight, callbacks=[early_stopping, model_checkpoint])\n",
        "\n",
        "model.load_weights(bst_model_path)\n",
        "bst_val_score = min(hist.history['val_loss'])"
      ],
      "execution_count": 8,
      "outputs": [
        {
          "output_type": "stream",
          "text": [
            "Train on 892 samples, validate on 100 samples\n",
            "Epoch 1/50\n",
            "892/892 [==============================] - 4s 5ms/step - loss: 0.4945 - acc: 0.7601 - val_loss: 0.6488 - val_acc: 0.6400\n",
            "Epoch 2/50\n",
            "892/892 [==============================] - 4s 5ms/step - loss: 0.4310 - acc: 0.7982 - val_loss: 0.6494 - val_acc: 0.6000\n",
            "Epoch 3/50\n",
            "892/892 [==============================] - 4s 5ms/step - loss: 0.4140 - acc: 0.7993 - val_loss: 0.6204 - val_acc: 0.6400\n",
            "Epoch 4/50\n",
            "892/892 [==============================] - 4s 5ms/step - loss: 0.4138 - acc: 0.8061 - val_loss: 0.6645 - val_acc: 0.5900\n",
            "Epoch 5/50\n",
            "892/892 [==============================] - 4s 5ms/step - loss: 0.4218 - acc: 0.8150 - val_loss: 0.5929 - val_acc: 0.6200\n",
            "Epoch 6/50\n",
            "892/892 [==============================] - 6s 7ms/step - loss: 0.3681 - acc: 0.8408 - val_loss: 0.6045 - val_acc: 0.6200\n",
            "Epoch 7/50\n",
            "892/892 [==============================] - 6s 7ms/step - loss: 0.2974 - acc: 0.8778 - val_loss: 0.5935 - val_acc: 0.6200\n",
            "Epoch 8/50\n",
            "892/892 [==============================] - 4s 5ms/step - loss: 0.2470 - acc: 0.9092 - val_loss: 0.5859 - val_acc: 0.6200\n",
            "Epoch 9/50\n",
            "892/892 [==============================] - 4s 5ms/step - loss: 0.2299 - acc: 0.9126 - val_loss: 0.5800 - val_acc: 0.6200\n",
            "Epoch 10/50\n",
            "892/892 [==============================] - 4s 5ms/step - loss: 0.2126 - acc: 0.9182 - val_loss: 0.5712 - val_acc: 0.6200\n",
            "Epoch 11/50\n",
            "892/892 [==============================] - 4s 5ms/step - loss: 0.1995 - acc: 0.9092 - val_loss: 0.5591 - val_acc: 0.6200\n",
            "Epoch 12/50\n",
            "892/892 [==============================] - 4s 5ms/step - loss: 0.1945 - acc: 0.9148 - val_loss: 0.5629 - val_acc: 0.6200\n",
            "Epoch 13/50\n",
            "892/892 [==============================] - 4s 5ms/step - loss: 0.1722 - acc: 0.9193 - val_loss: 0.5430 - val_acc: 0.6200\n",
            "Epoch 14/50\n",
            "892/892 [==============================] - 4s 5ms/step - loss: 0.1495 - acc: 0.9361 - val_loss: 0.5409 - val_acc: 0.6200\n",
            "Epoch 15/50\n",
            "892/892 [==============================] - 4s 5ms/step - loss: 0.1441 - acc: 0.9383 - val_loss: 0.5362 - val_acc: 0.6200\n",
            "Epoch 16/50\n",
            "892/892 [==============================] - 4s 5ms/step - loss: 0.1212 - acc: 0.9484 - val_loss: 0.5230 - val_acc: 0.6200\n",
            "Epoch 17/50\n",
            "892/892 [==============================] - 4s 5ms/step - loss: 0.1179 - acc: 0.9484 - val_loss: 0.5211 - val_acc: 0.6200\n",
            "Epoch 18/50\n",
            "892/892 [==============================] - 4s 5ms/step - loss: 0.0957 - acc: 0.9540 - val_loss: 0.5140 - val_acc: 0.6200\n",
            "Epoch 19/50\n",
            "892/892 [==============================] - 4s 5ms/step - loss: 0.0881 - acc: 0.9652 - val_loss: 0.5135 - val_acc: 0.6200\n",
            "Epoch 20/50\n",
            "892/892 [==============================] - 4s 5ms/step - loss: 0.0838 - acc: 0.9641 - val_loss: 0.5039 - val_acc: 0.6200\n",
            "Epoch 21/50\n",
            "892/892 [==============================] - 4s 5ms/step - loss: 0.0974 - acc: 0.9596 - val_loss: 0.5029 - val_acc: 0.6200\n",
            "Epoch 22/50\n",
            "892/892 [==============================] - 4s 5ms/step - loss: 0.1030 - acc: 0.9529 - val_loss: 0.4965 - val_acc: 0.6200\n",
            "Epoch 23/50\n",
            "892/892 [==============================] - 4s 5ms/step - loss: 0.0778 - acc: 0.9664 - val_loss: 0.4931 - val_acc: 0.6200\n",
            "Epoch 24/50\n",
            "892/892 [==============================] - 4s 5ms/step - loss: 0.0691 - acc: 0.9652 - val_loss: 0.4899 - val_acc: 0.6200\n",
            "Epoch 25/50\n",
            "892/892 [==============================] - 4s 5ms/step - loss: 0.0587 - acc: 0.9776 - val_loss: 0.4869 - val_acc: 0.6200\n",
            "Epoch 26/50\n",
            "892/892 [==============================] - 4s 5ms/step - loss: 0.0609 - acc: 0.9776 - val_loss: 0.4836 - val_acc: 0.6200\n",
            "Epoch 27/50\n",
            "892/892 [==============================] - 4s 5ms/step - loss: 0.0522 - acc: 0.9753 - val_loss: 0.4823 - val_acc: 0.6200\n",
            "Epoch 28/50\n",
            "892/892 [==============================] - 4s 5ms/step - loss: 0.0438 - acc: 0.9865 - val_loss: 0.4800 - val_acc: 0.6200\n",
            "Epoch 29/50\n",
            "892/892 [==============================] - 4s 5ms/step - loss: 0.0460 - acc: 0.9821 - val_loss: 0.4772 - val_acc: 0.6200\n",
            "Epoch 30/50\n",
            "892/892 [==============================] - 4s 5ms/step - loss: 0.0476 - acc: 0.9787 - val_loss: 0.4756 - val_acc: 0.6200\n",
            "Epoch 31/50\n",
            "892/892 [==============================] - 4s 5ms/step - loss: 0.0376 - acc: 0.9854 - val_loss: 0.4735 - val_acc: 0.6200\n",
            "Epoch 32/50\n",
            "892/892 [==============================] - 4s 5ms/step - loss: 0.0445 - acc: 0.9821 - val_loss: 0.4716 - val_acc: 0.6200\n",
            "Epoch 33/50\n",
            "892/892 [==============================] - 4s 5ms/step - loss: 0.0407 - acc: 0.9877 - val_loss: 0.4697 - val_acc: 0.6200\n",
            "Epoch 34/50\n",
            "892/892 [==============================] - 5s 6ms/step - loss: 0.0356 - acc: 0.9832 - val_loss: 0.4680 - val_acc: 0.6200\n",
            "Epoch 35/50\n",
            "892/892 [==============================] - 7s 8ms/step - loss: 0.0281 - acc: 0.9910 - val_loss: 0.4674 - val_acc: 0.6200\n",
            "Epoch 36/50\n",
            "892/892 [==============================] - 6s 6ms/step - loss: 0.0264 - acc: 0.9944 - val_loss: 0.4668 - val_acc: 0.6200\n",
            "Epoch 37/50\n",
            "892/892 [==============================] - 4s 5ms/step - loss: 0.0294 - acc: 0.9888 - val_loss: 0.4661 - val_acc: 0.6200\n",
            "Epoch 38/50\n",
            "892/892 [==============================] - 4s 5ms/step - loss: 0.0280 - acc: 0.9933 - val_loss: 0.4648 - val_acc: 0.6200\n",
            "Epoch 39/50\n",
            "892/892 [==============================] - 4s 5ms/step - loss: 0.0320 - acc: 0.9821 - val_loss: 0.4643 - val_acc: 0.6200\n",
            "Epoch 40/50\n",
            "892/892 [==============================] - 4s 5ms/step - loss: 0.0192 - acc: 0.9922 - val_loss: 0.4636 - val_acc: 0.6200\n",
            "Epoch 41/50\n",
            "892/892 [==============================] - 4s 5ms/step - loss: 0.0198 - acc: 0.9955 - val_loss: 0.4630 - val_acc: 0.6200\n",
            "Epoch 42/50\n",
            "892/892 [==============================] - 4s 5ms/step - loss: 0.0191 - acc: 0.9944 - val_loss: 0.4623 - val_acc: 0.6200\n",
            "Epoch 43/50\n",
            "892/892 [==============================] - 4s 5ms/step - loss: 0.0250 - acc: 0.9910 - val_loss: 0.4634 - val_acc: 0.6200\n",
            "Epoch 44/50\n",
            "892/892 [==============================] - 4s 5ms/step - loss: 0.0193 - acc: 0.9944 - val_loss: 0.4622 - val_acc: 0.6200\n",
            "Epoch 45/50\n",
            "892/892 [==============================] - 4s 5ms/step - loss: 0.0230 - acc: 0.9888 - val_loss: 0.4629 - val_acc: 0.6200\n",
            "Epoch 46/50\n",
            "892/892 [==============================] - 4s 5ms/step - loss: 0.0179 - acc: 0.9922 - val_loss: 0.4625 - val_acc: 0.6200\n",
            "Epoch 47/50\n",
            "892/892 [==============================] - 4s 5ms/step - loss: 0.0250 - acc: 0.9955 - val_loss: 0.4614 - val_acc: 0.6200\n",
            "Epoch 48/50\n",
            "892/892 [==============================] - 4s 5ms/step - loss: 0.0208 - acc: 0.9922 - val_loss: 0.4623 - val_acc: 0.6200\n",
            "Epoch 49/50\n",
            "892/892 [==============================] - 4s 5ms/step - loss: 0.0205 - acc: 0.9933 - val_loss: 0.4627 - val_acc: 0.6200\n",
            "Epoch 50/50\n",
            "892/892 [==============================] - 4s 5ms/step - loss: 0.0150 - acc: 0.9933 - val_loss: 0.4626 - val_acc: 0.6200\n"
          ],
          "name": "stdout"
        }
      ]
    },
    {
      "cell_type": "code",
      "metadata": {
        "id": "O1_1bk8OatjG",
        "colab_type": "code",
        "colab": {
          "base_uri": "https://localhost:8080/",
          "height": 68
        },
        "outputId": "4a039839-a89e-4e0e-e3ff-095fd91fc445"
      },
      "source": [
        "print('Test File')\n",
        "\n",
        "preds = model.predict([test_data_1, test_data_2], batch_size=8192, verbose=1)\n",
        "preds += model.predict([test_data_2, test_data_1], batch_size=8192, verbose=1)\n",
        "preds /= 2\n",
        "\n",
        "submission = pd.DataFrame({'test_id':test_ids, 'is_duplicate':preds.ravel()})\n",
        "submission.to_csv(BASE_DIR+\"RESULT.csv\", index=False) #RESULT.csv(sample file) is similarity values of test data\n",
        "                                                      #instead of BASE_DIR here use your folder;s path or just RESULT.csv\n",
        "                                                      #with test pair id from test.csv(TEST_DATA_FILE) \n",
        "                                                      #test.csv - https://drive.google.com/open?id=1SyUgSjOBllW6Vesql1F-erS6wSB-mdOb\n",
        "                                                      #RESULT.csv - https://drive.google.com/open?id=1XBs91f0WCOGqaAMjPfqtFYuqqV9oprTc"
      ],
      "execution_count": 9,
      "outputs": [
        {
          "output_type": "stream",
          "text": [
            "Test File\n",
            "164/164 [==============================] - 1s 3ms/step\n",
            "164/164 [==============================] - 0s 2ms/step\n"
          ],
          "name": "stdout"
        }
      ]
    },
    {
      "cell_type": "markdown",
      "metadata": {
        "id": "ai1VPCETdcbe",
        "colab_type": "text"
      },
      "source": [
        "Original result is in ans2.csv in shared BASE_DIR\n",
        "\n",
        "direct file is available here: https://drive.google.com/open?id=1-3RHeIeJus8M1cOH-B4ZOw8SCvJpNmtN"
      ]
    },
    {
      "cell_type": "code",
      "metadata": {
        "id": "Uojd2_Q4a41-",
        "colab_type": "code",
        "colab": {
          "base_uri": "https://localhost:8080/",
          "height": 295
        },
        "outputId": "8342fe64-dc19-4bff-989e-f574539bba3b"
      },
      "source": [
        "import matplotlib.pyplot as plt\n",
        "%matplotlib inline\n",
        "\n",
        "plt.xlabel('epoch')\n",
        "plt.ylabel('Value')\n",
        "plt.title('title')\n",
        "\n",
        "plt.plot(range(1,51),hist.history['acc'],marker='o',color='green',markerfacecolor='green',markersize=2,linewidth=1,label='acc')\n",
        "plt.plot(range(1,51),hist.history['val_acc'],marker='o',color='blue',markerfacecolor='blue',markersize=2,linewidth=1,label='val_acc')\n",
        "plt.plot(range(1,51),hist.history['loss'],marker='o',color='red',markerfacecolor='red',markersize=2,linewidth=1,label='loss')\n",
        "plt.plot(range(1,51),hist.history['val_loss'],marker='o',color='yellow',markerfacecolor='yellow',markersize=2,linewidth=1,label='val_loss')\n",
        "\n",
        "plt.legend()\n",
        "plt.show()"
      ],
      "execution_count": 12,
      "outputs": [
        {
          "output_type": "display_data",
          "data": {
            "image/png": "[encoded data removed]",
            "text/plain": [
              "<Figure size 432x288 with 1 Axes>"
            ]
          },
          "metadata": {
            "tags": [],
            "needs_background": "light"
          }
        }
      ]
    },
    {
      "cell_type": "markdown",
      "metadata": {
        "id": "SCCI5wPdciEp",
        "colab_type": "text"
      },
      "source": [
        "**Saved Values after 23 epochs**\n",
        "\n",
        "\n",
        "instead of BASE_DIR+links will be needed to replace with links of files given in shared links ![alt text](https://)"
      ]
    },
    {
      "cell_type": "code",
      "metadata": {
        "id": "-ior8gxzbuBw",
        "colab_type": "code",
        "colab": {}
      },
      "source": [
        "import pickle\n",
        "BASE_DIR = '/content/drive/My Drive/irlabs/impl/'\n",
        "\n",
        "with open(BASE_DIR+'preds.pickle', 'rb') as f: #https://drive.google.com/open?id=1-6pQ6hiVA6QDALeyhc4hkpTncUmqHXni\n",
        "  preds = pickle.load(f)\n",
        "\n",
        "with open(BASE_DIR+'test_ids.pickle', 'rb') as f: #https://drive.google.com/open?id=1-5aOsp4QdbpWxRgSayqdbuTu_sV8I-PF\n",
        "  test_ids = pickle.load(f)\n",
        "\n",
        "with open(BASE_DIR+'acc.pickle', 'rb') as f:  #https://drive.google.com/open?id=1lABTT-Ssyf3jwZvBaTSuHEM8yaLhYuMY\n",
        "  acc = pickle.load(f)\n",
        "\n",
        "with open(BASE_DIR+'val_acc.pickle', 'rb') as f: #https://drive.google.com/open?id=1-0bqZ8EuCPinjKwD99POPje1sxqJG_pe\n",
        "  val_acc = pickle.load(f)\n",
        "\n",
        "with open(BASE_DIR+'loss.pickle', 'rb') as f: #https://drive.google.com/open?id=13zxmc2FpC7SiVBQc7G2sjatgU5FYe2e6\n",
        "  loss = pickle.load(f)\n",
        "\n",
        "with open(BASE_DIR+'val_loss.pickle', 'rb') as f: #https://drive.google.com/open?id=1--vkjNlRs8_YM_gG7GJkQkdpY1K02r9n\n",
        "  val_loss = pickle.load(f)\n",
        "\n",
        "import pandas as pd\n",
        "submission = pd.DataFrame({'test_id':test_ids, 'is_duplicate':preds.ravel()})"
      ],
      "execution_count": 0,
      "outputs": []
    },
    {
      "cell_type": "code",
      "metadata": {
        "id": "4yidVIAwb_lY",
        "colab_type": "code",
        "colab": {
          "base_uri": "https://localhost:8080/",
          "height": 295
        },
        "outputId": "a3b043cb-7b5c-4662-ca2f-f9dc62285f4d"
      },
      "source": [
        "import matplotlib.pyplot as plt\n",
        "%matplotlib inline\n",
        "\n",
        "plt.xlabel('epoch')\n",
        "plt.ylabel('log-loss')\n",
        "plt.title('log-loss accuracy')\n",
        "max_val = len(acc)+1\n",
        "\n",
        "plt.plot(range(1,max_val),acc,marker='o',color='green',markerfacecolor='green',markersize=2,linewidth=1,label='acc')\n",
        "plt.plot(range(1,max_val),val_acc,marker='o',color='blue',markerfacecolor='blue',markersize=2,linewidth=1,label='val_acc')\n",
        "plt.plot(range(1,max_val),loss,marker='o',color='red',markerfacecolor='red',markersize=2,linewidth=1,label='loss')\n",
        "plt.plot(range(1,max_val),val_loss,marker='o',color='yellow',markerfacecolor='yellow',markersize=2,linewidth=1,label='val_loss')\n",
        "\n",
        "plt.legend()\n",
        "plt.show()"
      ],
      "execution_count": 3,
      "outputs": [
        {
          "output_type": "display_data",
          "data": {
            "image/png": "[encoded data removed]",
            "text/plain": [
              "<Figure size 432x288 with 1 Axes>"
            ]
          },
          "metadata": {
            "tags": [],
            "needs_background": "light"
          }
        }
      ]
    },
    {
      "cell_type": "markdown",
      "metadata": {
        "id": "F_OJogugaH8C",
        "colab_type": "text"
      },
      "source": [
        "**13 epoch evaluation**"
      ]
    },
    {
      "cell_type": "code",
      "metadata": {
        "id": "U1BoBpAtbyX2",
        "colab_type": "code",
        "colab": {}
      },
      "source": [
        "with open(BASE_DIR+'acc1.pickle', 'rb') as f:  #https://drive.google.com/open?id=1fAbf1mbnJLd8ivD7TnfFfKjAashLtLWd\n",
        "  acc1 = pickle.load(f)\n",
        "\n",
        "with open(BASE_DIR+'val_acc1.pickle', 'rb') as f: #https://drive.google.com/open?id=1-50gUK6ExBr0Qj5G3iyjDf10OrJNzDCz\n",
        "  val_acc1 = pickle.load(f)\n",
        "\n",
        "with open(BASE_DIR+'loss1.pickle', 'rb') as f: #https://drive.google.com/open?id=1-84BRU8gFqftB5J_BVh2Z-9lcrxF8w9J\n",
        "  loss1 = pickle.load(f)\n",
        "\n",
        "with open(BASE_DIR+'val_loss1.pickle', 'rb') as f: #https://drive.google.com/open?id=1-3BobXMI_1bwiZ2MqXziJGFPutQW1SY6\n",
        "  val_loss1 = pickle.load(f)\n"
      ],
      "execution_count": 0,
      "outputs": []
    },
    {
      "cell_type": "code",
      "metadata": {
        "id": "3T0qHaSfZxmF",
        "colab_type": "code",
        "colab": {
          "base_uri": "https://localhost:8080/",
          "height": 295
        },
        "outputId": "62857c1a-9234-4d52-99ec-06e594370f16"
      },
      "source": [
        "import matplotlib.pyplot as plt\n",
        "%matplotlib inline\n",
        "\n",
        "plt.xlabel('epoch')\n",
        "plt.ylabel('log-loss')\n",
        "plt.title('log-loss accuracy')\n",
        "max_val1 = len(acc1)+1\n",
        "\n",
        "plt.plot(range(1,max_val1),acc1,marker='o',color='green',markerfacecolor='green',markersize=2,linewidth=1,label='acc')\n",
        "plt.plot(range(1,max_val1),val_acc1,marker='o',color='blue',markerfacecolor='blue',markersize=2,linewidth=1,label='val_acc')\n",
        "plt.plot(range(1,max_val1),loss1,marker='o',color='red',markerfacecolor='red',markersize=2,linewidth=1,label='loss')\n",
        "plt.plot(range(1,max_val1),val_loss1,marker='o',color='yellow',markerfacecolor='yellow',markersize=2,linewidth=1,label='val_loss')\n",
        "\n",
        "plt.legend()\n",
        "plt.show()"
      ],
      "execution_count": 7,
      "outputs": [
        {
          "output_type": "display_data",
          "data": {
            "image/png": "[encoded data removed]",
            "text/plain": [
              "<Figure size 432x288 with 1 Axes>"
            ]
          },
          "metadata": {
            "tags": [],
            "needs_background": "light"
          }
        }
      ]
    }
  ]
}